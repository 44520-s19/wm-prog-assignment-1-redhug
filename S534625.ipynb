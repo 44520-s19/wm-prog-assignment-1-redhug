{
 "cells": [
  {
   "cell_type": "markdown",
   "metadata": {},
   "source": [
    "### Pavan Kumar Reddy Byreddy"
   ]
  },
  {
   "cell_type": "code",
   "execution_count": 19,
   "metadata": {},
   "outputs": [
    {
     "name": "stdout",
     "output_type": "stream",
     "text": [
      "#      #\n",
      "##    ##\n",
      "###  ###\n",
      "########\n"
     ]
    }
   ],
   "source": [
    "for outer_val in range(2, 10, 2):\n",
    "    print('#' * (outer_val//2) + (' ' * (8-outer_val)) + ('#' * (outer_val//2)))"
   ]
  }
 ],
 "metadata": {
  "kernelspec": {
   "display_name": "Python 3",
   "language": "python",
   "name": "python3"
  },
  "language_info": {
   "codemirror_mode": {
    "name": "ipython",
    "version": 3
   },
   "file_extension": ".py",
   "mimetype": "text/x-python",
   "name": "python",
   "nbconvert_exporter": "python",
   "pygments_lexer": "ipython3",
   "version": "3.7.3"
  }
 },
 "nbformat": 4,
 "nbformat_minor": 2
}
